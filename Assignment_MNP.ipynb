{
 "cells": [
  {
   "cell_type": "markdown",
   "id": "ff6e65d3-c7eb-49d0-8b8e-246e3e50bd15",
   "metadata": {},
   "source": [
    "### 1.a"
   ]
  },
  {
   "cell_type": "code",
   "execution_count": 4,
   "id": "259db084-6dd8-482b-9693-8c4020f4f1e4",
   "metadata": {},
   "outputs": [
    {
     "name": "stdout",
     "output_type": "stream",
     "text": [
      "-----A-----\n",
      "----BAB----\n",
      "---CBABC---\n",
      "--DCBABCD--\n",
      "-EDCBABCDE-\n",
      "FEDCBABCDEF\n",
      " \n",
      "---------A---------\n",
      "--------BAB--------\n",
      "-------CBABC-------\n",
      "------DCBABCD------\n",
      "-----EDCBABCDE-----\n",
      "----FEDCBABCDEF----\n",
      "---GFEDCBABCDEFG---\n",
      "--HGFEDCBABCDEFGH--\n",
      "-IHGFEDCBABCDEFGHI-\n",
      "JIHGFEDCBABCDEFGHIJ\n"
     ]
    }
   ],
   "source": [
    "def F(n):\n",
    "    alphabet = \"ABCDEFGHIJKLMNOPQRSTUVWXYZ\"  \n",
    "    \n",
    "    for i in range(1,n+1):\n",
    "        dash='-'*(n - i)\n",
    "        desc=\"\"\n",
    "        for j in range(i-1,-1,-1):\n",
    "            desc+=alphabet[j]\n",
    "        \n",
    "        asc = \"\"\n",
    "        for j in range(1,i):\n",
    "            asc+=alphabet[j]\n",
    "        #concatenating        \n",
    "        tot=dash+desc+asc+dash\n",
    "        \n",
    "        print(tot)\n",
    "\n",
    "# Tests\n",
    "F(6)  \n",
    "print(\" \")\n",
    "F(10)\n"
   ]
  },
  {
   "cell_type": "markdown",
   "id": "e466d5fc-0a6d-418d-a377-40098f1ca1d5",
   "metadata": {},
   "source": [
    "### 1.b"
   ]
  },
  {
   "cell_type": "code",
   "execution_count": 18,
   "id": "0a547330-6c4f-46da-817d-ac5f54735585",
   "metadata": {},
   "outputs": [
    {
     "name": "stdout",
     "output_type": "stream",
     "text": [
      "-1, - 1, - 2 -\n",
      "-2, - -1, - 4 -\n",
      "-4, - 2, - 3 -\n",
      "-5, - -4, - 3 -\n",
      "-4, - 2, - 3 -\n",
      "-1, - 1, - 2 -\n",
      "-2, - -1, - 4 -\n",
      "-5, - -4, - 3 -\n",
      "-1, - 1, - 2 -\n",
      "-5, - -4, - 3 -\n",
      "-4, - 2, - 3 -\n",
      "-2, - -1, - 4 -\n",
      "\n",
      "--8, - 4, - 2 -\n",
      "-5, - 9, - -10 -\n",
      "-6, - -3, - 4 -\n",
      "-7, - 2, - 1 -\n",
      "-5, - 9, - -10 -\n",
      "--8, - 4, - 2 -\n",
      "-7, - 2, - 1 -\n",
      "-6, - -3, - 4 -\n",
      "-5, - 9, - -10 -\n",
      "-7, - 2, - 1 -\n",
      "--8, - 4, - 2 -\n",
      "-6, - -3, - 4 -\n"
     ]
    }
   ],
   "source": [
    "#I am using keyword lambda to avoid making 3 different functions\n",
    "def F(d: dict):\n",
    "    #key values ascending sorting\n",
    "    key_asc= sorted(d.items(),key=lambda i:i[0])\n",
    "    for i in key_asc:\n",
    "        key=i[0]\n",
    "        key_=str(key)\n",
    "        x=i[1][0]\n",
    "        x_=str(x)\n",
    "        y=i[1][1]\n",
    "        y_=str(y)\n",
    "        print(\"-\"+key_+\", - \"+x_+ \", - \" +y_+\" -\")\n",
    "\n",
    "    #x values descending sorting\n",
    "    x_desc=sorted(d.items(), key=lambda j: j[1][0], reverse=True) #reverse=True for descending sorting\n",
    "    for j in x_desc:\n",
    "        key=j[0]\n",
    "        key_=str(key)\n",
    "        x=j[1][0]\n",
    "        x_=str(x)\n",
    "        y=j[1][1]\n",
    "        y_=str(y)\n",
    "        print(\"-\"+key_+\", - \"+x_+ \", - \" +y_+\" -\")\n",
    "\n",
    "    #y values ascending sorting\n",
    "    y_asc = sorted(d.items(), key=lambda k: k[1][1])\n",
    "    for k in y_asc:\n",
    "        key=k[0]\n",
    "        key_=str(key)\n",
    "        x=k[1][0]\n",
    "        x_=str(x)\n",
    "        y=k[1][1]\n",
    "        y_=str(y)\n",
    "        print(\"-\"+key_+\", - \"+x_+ \", - \" +y_+\" -\")\n",
    "\n",
    "# Tests\n",
    "F({1 : (1, 2), 2 : (-1, 4), 5 : (-4, 3), 4 : (2, 3)})\n",
    "print(\"\")\n",
    "F({-8 : (4, 2), 6 : (-3, 4), 7 : (2, 1), 5 : (9, -10)})\n",
    "\n"
   ]
  },
  {
   "cell_type": "markdown",
   "id": "2813a8b0-4b2c-493a-9120-7d97169002ce",
   "metadata": {},
   "source": [
    "#### 2 Working with Student Records"
   ]
  },
  {
   "cell_type": "markdown",
   "id": "1608aaa1-d95f-49e8-abe4-f146b86e2d06",
   "metadata": {},
   "source": [
    "### 2.a"
   ]
  },
  {
   "cell_type": "code",
   "execution_count": 26,
   "id": "998668e0-6240-4258-a67e-691134b8778e",
   "metadata": {},
   "outputs": [
    {
     "name": "stdout",
     "output_type": "stream",
     "text": [
      "   roll_number department  credit course_name      course_type grade\n",
      "0       588946         MA       3       EC250  hasmed_elective    AB\n",
      "1       145372         EP       4       EP407  hasmed_elective    CC\n",
      "2       834515         MA       8       EP885  hasmed_elective    BB\n",
      "3       344265        CSE       6      CSE699          honours    AB\n",
      "4       358405         MA       3       EE460            minor    AP\n",
      "5       781075         CE       8       CE540          honours    CC\n",
      "6       180828        CSE       6       CE880            minor    AB\n",
      "7       981238         MM       4      CSE226            minor    AB\n",
      "8       836881         MM       8       MM530             core    AA\n",
      "9       310604         EE       8       EE202             core    AB\n"
     ]
    }
   ],
   "source": [
    "import pandas as pd\n",
    "\n",
    "df=pd.read_csv(r\"C:\\Users\\Mahima\\Downloads\\student_records.csv\")\n",
    "\n",
    "print(df.head(10))\n"
   ]
  },
  {
   "cell_type": "markdown",
   "id": "0706d3ac-85fe-41ac-bcf7-a0fbc3a2b1d4",
   "metadata": {},
   "source": [
    "### 2.b"
   ]
  },
  {
   "cell_type": "code",
   "execution_count": 56,
   "id": "cf3bf8b5-22fb-49ba-8bc7-3965d7b631df",
   "metadata": {},
   "outputs": [],
   "source": [
    "grade_value={'AP':10,'AA':10,'AB':9,'BB':8,'BC':7,'CC':6,'CD':5,'DD':4}\n",
    "\n",
    "import pandas as pd\n",
    "df=pd.read_csv(r\"C:\\Users\\Mahima\\Downloads\\student_records.csv\")\n",
    "df['Grade Numerical Value']=df['grade'].map(grade_value)\n",
    "df['Total Credits']=df['Grade Numerical Value']*df['credit']\n",
    "df.to_csv(r\"C:\\Users\\Mahima\\Downloads\\student_records.csv\", index=False)\n",
    "\n"
   ]
  },
  {
   "cell_type": "code",
   "execution_count": 57,
   "id": "71da7415-dd8e-4f0c-b0ef-2787d28bcc12",
   "metadata": {},
   "outputs": [
    {
     "name": "stdout",
     "output_type": "stream",
     "text": [
      "   roll_number department  credit course_name      course_type grade  \\\n",
      "0       588946         MA       3       EC250  hasmed_elective    AB   \n",
      "1       145372         EP       4       EP407  hasmed_elective    CC   \n",
      "2       834515         MA       8       EP885  hasmed_elective    BB   \n",
      "3       344265        CSE       6      CSE699          honours    AB   \n",
      "4       358405         MA       3       EE460            minor    AP   \n",
      "5       781075         CE       8       CE540          honours    CC   \n",
      "6       180828        CSE       6       CE880            minor    AB   \n",
      "7       981238         MM       4      CSE226            minor    AB   \n",
      "8       836881         MM       8       MM530             core    AA   \n",
      "9       310604         EE       8       EE202             core    AB   \n",
      "\n",
      "   Grade Numerical Value  Total Credits  \n",
      "0                      9             27  \n",
      "1                      6             24  \n",
      "2                      8             64  \n",
      "3                      9             54  \n",
      "4                     10             30  \n",
      "5                      6             48  \n",
      "6                      9             54  \n",
      "7                      9             36  \n",
      "8                     10             80  \n",
      "9                      9             72  \n"
     ]
    }
   ],
   "source": [
    "import pandas as pd\n",
    "df=pd.read_csv(r\"C:\\Users\\Mahima\\Downloads\\student_records.csv\")\n",
    "print(df.head(10))"
   ]
  },
  {
   "cell_type": "code",
   "execution_count": 65,
   "id": "7c9d0ec6-cc16-4254-9835-fb25a7a04cec",
   "metadata": {},
   "outputs": [
    {
     "name": "stdout",
     "output_type": "stream",
     "text": [
      "Saved to C:\\Users\\Mahima\\Downloads\\student_records_CPI.csv\n"
     ]
    }
   ],
   "source": [
    "import pandas as pd\n",
    "df=r\"C:\\Users\\Mahima\\Downloads\\student_records.csv\"\n",
    "\n",
    "data = pd.read_csv(df)\n",
    "\n",
    "grouping = data.groupby('roll_number').agg(sum_of_credits=('credit', 'sum'),sum_of_total_weighted_credits=('Total Credits', 'sum')).reset_index()\n",
    "grouping['CPI'] = grouping['sum_of_total_weighted_credits'] / grouping['sum_of_credits']\n",
    "new_file = r\"C:\\Users\\Mahima\\Downloads\\student_records_CPI.csv\"\n",
    "grouping.to_csv(new_file, index=False)\n",
    "print(\"Saved to\", new_file)"
   ]
  },
  {
   "cell_type": "code",
   "execution_count": 68,
   "id": "b3563152-2561-4e05-b0c1-27be4ed12790",
   "metadata": {},
   "outputs": [
    {
     "name": "stdout",
     "output_type": "stream",
     "text": [
      "   roll_number  sum_of_credits  sum_of_total_weighted_credits       CPI\n",
      "0       124663             229                           1861  8.126638\n",
      "1       138296             200                           1655  8.275000\n",
      "2       143142             234                           2055  8.782051\n",
      "3       143856             201                           1706  8.487562\n",
      "4       144528             228                           1860  8.157895\n",
      "5       145372             173                           1340  7.745665\n",
      "6       150503             173                           1434  8.289017\n",
      "7       159438             176                           1475  8.380682\n",
      "8       180828             177                           1433  8.096045\n",
      "9       194063             157                           1278  8.140127\n"
     ]
    }
   ],
   "source": [
    "import pandas as pd\n",
    "df=pd.read_csv(r\"C:\\Users\\Mahima\\Downloads\\student_records_CPI.csv\")\n",
    "print(df.head(10))"
   ]
  },
  {
   "cell_type": "markdown",
   "id": "c43a8e62-6221-4778-a63b-6f5db7d768e5",
   "metadata": {},
   "source": [
    "### 2.c"
   ]
  },
  {
   "cell_type": "code",
   "execution_count": 78,
   "id": "0238b7d7-04ee-430f-9a44-c02a11189bb4",
   "metadata": {},
   "outputs": [
    {
     "name": "stdout",
     "output_type": "stream",
     "text": [
      "Eligible roll numbers: [124663, 143142, 143856, 144528, 150503, 159438, 180828, 203200, 207443, 214270, 265922, 282482, 283796, 294697, 310604, 327122, 362471, 379479, 381227, 388969, 391848, 461971, 482623, 485484, 488661, 500658, 517837, 521087, 534763, 571782, 572815, 581065, 581858, 588946, 608522, 608952, 626000, 628849, 630568, 681499, 692318, 703403, 716985, 721490, 750259, 773982, 781075, 782129, 787967, 810863, 834515, 836881, 845623, 871746, 879634, 881983, 888886, 928288, 955757, 960395, 970791, 971123, 973158, 981238, 986057, 998293]\n"
     ]
    }
   ],
   "source": [
    "import pandas as pd\n",
    "student_records=pd.read_csv(r\"C:\\Users\\Mahima\\Downloads\\student_records.csv\")\n",
    "CBT=student_records.groupby([\"roll_number\", \"course_type\"])[\"credit\"].sum().unstack(fill_value=0)\n",
    "req_to_pass={\"core\": 20,\"department_elective\": 15,\"flexible_elective\": 10,\"hasmed_elective\": 5}\n",
    "eligible_students=credits_by_type.loc[(CBT.get(\"core\",0)>= req_to_pass[\"core\"]) &(CBT.get(\"department_elective\", 0) >= req_to_pass[\"department_elective\"]) &\n",
    "(CBT.get(\"flexible_elective\", 0) >= req_to_pass[\"flexible_elective\"]) &(CBT.get(\"hasmed_elective\", 0) >= req_to_pass[\"hasmed_elective\"])]\n",
    "eligible_roll_numbers=eligible_students.index.tolist()\n",
    "print(\"Eligible roll numbers:\",eligible_roll_numbers)\n",
    "#used help from friends"
   ]
  },
  {
   "cell_type": "markdown",
   "id": "24c1f802-9f1a-4f34-a968-973a0e552604",
   "metadata": {},
   "source": [
    "### 2.d"
   ]
  },
  {
   "cell_type": "code",
   "execution_count": 79,
   "id": "e4fd57ff-6d38-491f-8d03-49aec1b36f4e",
   "metadata": {},
   "outputs": [
    {
     "name": "stdout",
     "output_type": "stream",
     "text": [
      "Roll numbers of students who completed a minor: [358405, 180828, 981238, 847809, 270007, 781075, 986057, 124663, 364146, 517837, 721490, 150503, 571782, 716985, 194063, 265922, 482623, 329535, 207443, 810863, 973158, 143142, 970791, 907454, 888886, 608522, 608952, 143856, 773982, 960395, 283796, 461584, 879634, 597353, 845623, 465496, 718510, 534763, 680096, 836881, 787967, 344265, 581858, 391848, 485484, 775967, 138296, 381526, 681499, 816041, 971123, 199713, 630568, 379479, 362471, 703403, 388969, 836431, 582912, 381227, 478606, 159438, 733782, 782129, 144528, 851029, 881983, 458200, 998293, 628849, 995208, 613401, 301135, 500658, 488661, 788020, 626000, 955757, 841365, 750259, 572815, 521087, 214270, 461971, 692318, 145372, 588946, 834515, 208100, 871746, 327122, 581065, 203200, 294697, 993835, 282482]\n"
     ]
    }
   ],
   "source": [
    "import pandas as pd\n",
    "student_records=pd.read_csv(r\"C:\\Users\\Mahima\\Downloads\\student_records.csv\")\n",
    "MINOR_CREDIT_REQUIREMENT = 10\n",
    "student_minor_credits = {}\n",
    "for _,row in student_records.iterrows():\n",
    "    roll_number=row[\"roll_number\"]\n",
    "    course_type=row[\"course_type\"]\n",
    "    credit=row[\"credit\"]\n",
    "    if course_type==\"minor\":\n",
    "        if roll_number not in student_minor_credits:\n",
    "            student_minor_credits[roll_number]=0\n",
    "        student_minor_credits[roll_number]+=credit\n",
    "eligible_minor_roll_numbers=[roll_number for roll_number,total_minor_credits in student_minor_credits.items()\n",
    "                               if total_minor_credits >= MINOR_CREDIT_REQUIREMENT\n",
    "]\n",
    "print(\"Roll numbers of students who completed a minor:\", eligible_minor_roll_numbers)\n",
    "\n",
    "#used help from friends"
   ]
  },
  {
   "cell_type": "markdown",
   "id": "ca050934-7db6-4586-8d82-f6a3e158ffbc",
   "metadata": {},
   "source": [
    "### 2.e"
   ]
  },
  {
   "cell_type": "code",
   "execution_count": 80,
   "id": "9d692692-c917-4afd-9c68-27557bc8f868",
   "metadata": {},
   "outputs": [
    {
     "name": "stdout",
     "output_type": "stream",
     "text": [
      "Roll numbers of students who completed honours: [781075, 871746, 718510, 214270, 613401, 836881, 703403, 581858, 608952, 628849, 572815, 970791, 144528, 571782, 124663, 716985, 485484, 626000, 971123, 458200, 845623, 787967, 482623, 379479, 207443, 282482, 955757, 203200, 294697, 881983, 960395, 143856, 327122, 143142, 721490, 888886, 581065, 630568, 589528, 465496, 364146, 159438, 750259, 986057, 998293, 870642, 773982, 521087, 834515, 782129, 582912, 388969, 681499, 692318, 310604, 973158, 199713, 517837, 265922, 788020, 488661, 928288, 362471, 500658, 588946, 534763, 391848, 283796, 150503, 208100, 461971, 810863, 608522, 879634, 145372]\n"
     ]
    }
   ],
   "source": [
    "import pandas as pd\n",
    "student_records = pd.read_csv(r\"C:\\Users\\Mahima\\Downloads\\student_records.csv\")\n",
    "HONOURS_CREDIT_REQUIREMENT=10\n",
    "CORE_CREDIT_REQUIREMENT=20\n",
    "honours_credits={}\n",
    "core_credits={}\n",
    "for _,row in student_records.iterrows():\n",
    "    roll_number=row[\"roll_number\"]\n",
    "    course_type=row[\"course_type\"]\n",
    "    credit=row[\"credit\"]\n",
    "    if course_type==\"honours\":\n",
    "        if roll_number not in honours_credits:\n",
    "            honours_credits[roll_number]=0\n",
    "        honours_credits[roll_number]+=credit\n",
    "    if course_type==\"core\":\n",
    "        if roll_number not in core_credits:\n",
    "            core_credits[roll_number] =0\n",
    "        core_credits[roll_number] += credit\n",
    "\n",
    "eligible_honours_roll_numbers = [\n",
    "    roll_number for roll_number in honours_credits\n",
    "    if honours_credits[roll_number] >= HONOURS_CREDIT_REQUIREMENT and\n",
    "       core_credits.get(roll_number, 0) >= CORE_CREDIT_REQUIREMENT\n",
    "]\n",
    "\n",
    "print(\"Roll numbers of students who completed honours:\", eligible_honours_roll_numbers)\n"
   ]
  }
 ],
 "metadata": {
  "kernelspec": {
   "display_name": "Python 3 (ipykernel)",
   "language": "python",
   "name": "python3"
  },
  "language_info": {
   "codemirror_mode": {
    "name": "ipython",
    "version": 3
   },
   "file_extension": ".py",
   "mimetype": "text/x-python",
   "name": "python",
   "nbconvert_exporter": "python",
   "pygments_lexer": "ipython3",
   "version": "3.11.4"
  }
 },
 "nbformat": 4,
 "nbformat_minor": 5
}
